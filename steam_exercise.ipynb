{
 "cells": [
  {
   "cell_type": "code",
   "execution_count": 1,
   "id": "7c8f8aa3-8e77-44d4-8154-0a53beb68130",
   "metadata": {},
   "outputs": [],
   "source": [
    "#https://medium.com/@mytiros/how-to-scrape-a-webpage-like-steam-7ae0751d2170"
   ]
  },
  {
   "cell_type": "code",
   "execution_count": 4,
   "id": "f204ded5-a39c-47b9-b484-41cd900bcf27",
   "metadata": {},
   "outputs": [],
   "source": [
    "import requests\n",
    "list_url = \"http://api.steampowered.com/ISteamApps/GetAppList/v2/\"\n",
    "#requests.get() retrieves all the contents from that page;\n",
    "response = requests.get(list_url)\n",
    "#response.json() converts the JSON data to a Python dictionary\n",
    "#apps contains a list of dictionaries, with keys of appid and name.\n",
    "apps = response.json()['applist']['apps']"
   ]
  },
  {
   "cell_type": "code",
   "execution_count": null,
   "id": "bc6af466-611c-4cdc-bf45-36be2be211e0",
   "metadata": {},
   "outputs": [],
   "source": []
  }
 ],
 "metadata": {
  "kernelspec": {
   "display_name": "Python 3 (ipykernel)",
   "language": "python",
   "name": "python3"
  },
  "language_info": {
   "codemirror_mode": {
    "name": "ipython",
    "version": 3
   },
   "file_extension": ".py",
   "mimetype": "text/x-python",
   "name": "python",
   "nbconvert_exporter": "python",
   "pygments_lexer": "ipython3",
   "version": "3.10.16"
  }
 },
 "nbformat": 4,
 "nbformat_minor": 5
}
